{
 "cells": [
  {
   "cell_type": "markdown",
   "id": "f2cda2d8",
   "metadata": {},
   "source": [
    "# Kernel 9: Parameter Autoning (Interlude)\n",
    "\n",
    "You are probably wondering, did I miss a notebook or this guy just indexing his kernels all wrong. Well, no. \n",
    "\n",
    "Simon, storming on with his brilliant optimisations, attempted with kernels 7 and 8 to eliminate the sahred memory bank conflicts taht we saw - . However, these, though they did eliminate the conflicts, were overall slower since. This highlights an important part of. Thus they won't be covered here, and we jump to kernel 9.\n",
    "\n",
    "Kernel 9 is also a different one, as we have the exact same code as kernel 6. No, we are not just attached to kernel 6 and avoiding making any changes. Here we make a unique type of optimisation - one that goes beyond code and is "
   ]
  }
 ],
 "metadata": {
  "language_info": {
   "name": "python"
  }
 },
 "nbformat": 4,
 "nbformat_minor": 5
}
