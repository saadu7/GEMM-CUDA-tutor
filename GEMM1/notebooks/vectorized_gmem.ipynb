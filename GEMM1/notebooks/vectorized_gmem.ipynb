{
 "cells": [
  {
   "cell_type": "markdown",
   "id": "80277910",
   "metadata": {},
   "source": [
    "# Kernel 6: Vectorization"
   ]
  }
 ],
 "metadata": {
  "language_info": {
   "name": "python"
  }
 },
 "nbformat": 4,
 "nbformat_minor": 5
}
