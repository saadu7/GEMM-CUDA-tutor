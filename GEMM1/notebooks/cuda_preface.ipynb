{
 "cells": [
  {
   "cell_type": "markdown",
   "id": "fa48e8fa",
   "metadata": {},
   "source": [
    "## Intro to Cuda\n",
    "Small preface of how coding in CUDA works, with some basic components that'll build a strong foundation in CUDA before we dive into the matrix multiplication kernels.\n",
    "<br><br>\n",
    "\n",
    "***Read if you do not know C++***\n",
    "\n",
    "<sub>Go learn C++. Seriously though, CUDA is essentially C++ with GPU-specific extensions. Teaching you C++ here requires more MarkDown than this repository can hold, so do yourself a favour, and at least brush up on same basic syntax before you start digging in.<sub>"
   ]
  },
  {
   "cell_type": "markdown",
   "id": "655a3f08",
   "metadata": {},
   "source": [
    "### Kernel Launch Syntax"
   ]
  },
  {
   "cell_type": "code",
   "execution_count": null,
   "id": "e4d6ec25",
   "metadata": {
    "vscode": {
     "languageId": "plaintext"
    }
   },
   "outputs": [],
   "source": [
    "printf()"
   ]
  },
  {
   "cell_type": "code",
   "execution_count": null,
   "id": "da3261e1",
   "metadata": {
    "vscode": {
     "languageId": "plaintext"
    }
   },
   "outputs": [],
   "source": []
  }
 ],
 "metadata": {
  "language_info": {
   "name": "python"
  }
 },
 "nbformat": 4,
 "nbformat_minor": 5
}
