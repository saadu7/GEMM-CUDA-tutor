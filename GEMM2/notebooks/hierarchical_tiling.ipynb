{
 "cells": [
  {
   "cell_type": "markdown",
   "id": "feaa6632",
   "metadata": {},
   "source": [
    "# Kernel 1 - Hierarchical Tiling\n",
    "\n"
   ]
  }
 ],
 "metadata": {
  "language_info": {
   "name": "python"
  }
 },
 "nbformat": 4,
 "nbformat_minor": 5
}
