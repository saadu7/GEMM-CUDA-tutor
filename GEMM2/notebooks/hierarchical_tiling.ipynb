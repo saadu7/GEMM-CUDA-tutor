{
 "cells": [
  {
   "cell_type": "markdown",
   "id": "feaa6632",
   "metadata": {},
   "source": [
    "# Kernel 1 - Hierarchical Tiling\n",
    "\n"
   ]
  },
  {
   "cell_type": "code",
   "execution_count": null,
   "id": "73b7b5fd",
   "metadata": {
    "vscode": {
     "languageId": "plaintext"
    }
   },
   "outputs": [],
   "source": [
    "// outer loop over block tiles\n",
    "for (block_k = 0; block_k < K; block_k += BK)\n",
    "{\n",
    "    // global memory to shared memory transfer\n",
    "    A_smem[:,:] = A_gmem[block_m:block_m+BM, block_k:block_k+BK]\n",
    "    B_smem[:,:] = B_gmem[block_k:block_k+BK, block_n:block_n+BN]\n",
    "    \n",
    "    // synchronize across the thread block in between\n",
    "    // writing shared memory and reading shared memory\n",
    "    __syncthreads();\n",
    "\n",
    "    for (warp_k = 0; warp_k < BK; warp_k += WK)\n",
    "    {\n",
    "        // load from shared memory into register memory in preparation for compute phase\n",
    "        A_reg[: ,:] = A_smem[warp_m:warp_m+WM, warp_k:warp_k+WK]\n",
    "        B_reg[:, :] = B_smem[warp_k:warp_k+WK, warp_n:warp_n+WN]\n",
    "\n",
    "        // outer product over mma tiles\n",
    "        for (mma_k = 0; mma_k < WK; mma_k += MMA_K)\n",
    "        {\n",
    "            for (mma_m = 0; mma_m < WM; mma_m += MMA_M)\n",
    "            {\n",
    "                for (mma_n = 0; mma_n < WN; mma_n += MMA_N)\n",
    "                {\n",
    "                    mma_sync_m16n8k8(\n",
    "                        acc_reg[mma_m:mma_m+MMA_M, mma_n:mma_n+MMA_N],\n",
    "                        A_reg[mma_m:mma_m+MMA_M, mma_k:mma_k+MMA_K],\n",
    "                        B_reg[mma_k:mma_k+MMA_K, mma_n:mma_n+MMA_N],\n",
    "                        acc_reg[mma_m:mma_m+MMA_M, mma_n:mma_n+MMA_N]\n",
    "                    )\n",
    "\n",
    "                }\n",
    "            }\n",
    "        }\n",
    "    }\n",
    "    __syncthreads();\n",
    "\n",
    "}"
   ]
  }
 ],
 "metadata": {
  "language_info": {
   "name": "python"
  }
 },
 "nbformat": 4,
 "nbformat_minor": 5
}
