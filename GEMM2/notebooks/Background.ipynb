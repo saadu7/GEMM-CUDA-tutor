{
 "cells": [
  {
   "cell_type": "markdown",
   "id": "1c36659c",
   "metadata": {},
   "source": [
    "# Background\n",
    "\n",
    "## Memory Wall\n",
    "\n",
    "- Every few years the number of transistors on a microchip increases, and as a result the capacity for performing arithmetic operations has increased exponentially.\n",
    "\n",
    "    - A **transistor** is a tiny electronic switch — the basic “work unit” of digital logic and memory. Modern CPUs and GPUs have billions of them.\n",
    "\n",
    "    - More transistors enable more logic gates, memory cells, and specialized units → greater parallelism, higher throughput, and more complex computations.\n",
    "\n",
    "- However, data movement capacity (memory bandwidth) hasn’t increased as fast, creating the **memory wall** — a key bottleneck in deep learning and Tensor Core workloads.\n",
    "\n",
    "- Hence if we want to fully utilize Tensor Cores, we must increase the number of bytes moved between DRAM and compute units."
   ]
  },
  {
   "cell_type": "markdown",
   "id": "f8e4b4c9",
   "metadata": {},
   "source": [
    "## Memory Wall "
   ]
  }
 ],
 "metadata": {
  "language_info": {
   "name": "python"
  }
 },
 "nbformat": 4,
 "nbformat_minor": 5
}
